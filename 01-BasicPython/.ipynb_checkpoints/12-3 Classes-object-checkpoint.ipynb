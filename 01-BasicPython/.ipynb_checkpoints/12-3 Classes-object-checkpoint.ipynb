{
 "cells": [
  {
   "cell_type": "code",
   "execution_count": null,
   "metadata": {
    "collapsed": true
   },
   "outputs": [],
   "source": [
    "Classes-object"
   ]
  },
  {
   "cell_type": "code",
   "execution_count": 1,
   "metadata": {
    "collapsed": true
   },
   "outputs": [],
   "source": [
    "class Duck:\n",
    "    #constructor : gets call everytime when create a new class\n",
    "    def __init__(self, *args): #common purpose for constructor is to initialize data, open database, etc.\n",
    "        self.v = args[0] #attribute of the object\n",
    "        self.z = args[1]\n",
    "        print('constructor')\n",
    "    \n",
    "    def quack(self): #self is reference to the object\n",
    "        print('Quaaack!', self.v, self.z)\n",
    "        \n",
    "    def walk(self): #self is reference to the object\n",
    "        print('Walks like a duck.', self.v, self.z)"
   ]
  },
  {
   "cell_type": "code",
   "execution_count": 2,
   "metadata": {
    "collapsed": true
   },
   "outputs": [],
   "source": [
    "def main():\n",
    "    donald = Duck(50,21)\n",
    "    frank = Duck(151,12)\n",
    "    donald.quack()\n",
    "    donald.walk()\n",
    "    frank.quack()\n",
    "    frank.walk()\n",
    "    print(id(donald), id(frank))"
   ]
  },
  {
   "cell_type": "code",
   "execution_count": 3,
   "metadata": {},
   "outputs": [
    {
     "name": "stdout",
     "output_type": "stream",
     "text": [
      "constructor\n",
      "constructor\n",
      "Quaaack! 50 21\n",
      "Walks like a duck. 50 21\n",
      "Quaaack! 151 12\n",
      "Walks like a duck. 151 12\n",
      "4469290208 4469289256\n"
     ]
    }
   ],
   "source": [
    "if __name__ == \"__main__\": main()"
   ]
  },
  {
   "cell_type": "code",
   "execution_count": null,
   "metadata": {
    "collapsed": true
   },
   "outputs": [],
   "source": []
  }
 ],
 "metadata": {
  "kernelspec": {
   "display_name": "Python 3",
   "language": "python",
   "name": "python3"
  },
  "language_info": {
   "codemirror_mode": {
    "name": "ipython",
    "version": 3
   },
   "file_extension": ".py",
   "mimetype": "text/x-python",
   "name": "python",
   "nbconvert_exporter": "python",
   "pygments_lexer": "ipython3",
   "version": "3.6.2"
  }
 },
 "nbformat": 4,
 "nbformat_minor": 2
}
